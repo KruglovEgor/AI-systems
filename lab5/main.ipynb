{
 "cells": [
  {
   "cell_type": "markdown",
   "source": [
    "# Задание"
   ],
   "metadata": {
    "collapsed": false
   },
   "id": "231b9d0cb523609d"
  },
  {
   "cell_type": "markdown",
   "source": [
    "# Ход работы"
   ],
   "metadata": {
    "collapsed": false
   },
   "id": "9d2beaf944883467"
  },
  {
   "cell_type": "markdown",
   "source": [
    "## Импортируем библиотеки"
   ],
   "metadata": {
    "collapsed": false
   },
   "id": "a74d92313a4bbcfc"
  },
  {
   "cell_type": "code",
   "execution_count": 37,
   "outputs": [],
   "source": [
    "from ucimlrepo import fetch_ucirepo\n",
    "import numpy as np\n",
    "import pandas as pd\n",
    "import pprint\n",
    "import math\n",
    "import random\n",
    "import matplotlib.pyplot as plt\n"
   ],
   "metadata": {
    "collapsed": false,
    "ExecuteTime": {
     "end_time": "2024-11-24T19:33:15.783403900Z",
     "start_time": "2024-11-24T19:33:15.765329600Z"
    }
   },
   "id": "53d866188945e5d2"
  },
  {
   "cell_type": "markdown",
   "source": [
    "## Загружаем данные"
   ],
   "metadata": {
    "collapsed": false
   },
   "id": "e99e3e2d0ead80b2"
  },
  {
   "cell_type": "code",
   "execution_count": 33,
   "outputs": [
    {
     "name": "stdout",
     "output_type": "stream",
     "text": [
      "       cap-shape cap-surface cap-color bruises  odor gill-attachment  \\\n",
      "count       8124        8124      8124    8124  8124            8124   \n",
      "unique         6           4        10       2     9               2   \n",
      "top            x           y         n       f     n               f   \n",
      "freq        3656        3244      2284    4748  3528            7914   \n",
      "\n",
      "       gill-spacing gill-size gill-color stalk-shape  ...  \\\n",
      "count          8124      8124       8124        8124  ...   \n",
      "unique            2         2         12           2  ...   \n",
      "top               c         b          b           t  ...   \n",
      "freq           6812      5612       1728        4608  ...   \n",
      "\n",
      "       stalk-surface-below-ring stalk-color-above-ring stalk-color-below-ring  \\\n",
      "count                      8124                   8124                   8124   \n",
      "unique                        4                      9                      9   \n",
      "top                           s                      w                      w   \n",
      "freq                       4936                   4464                   4384   \n",
      "\n",
      "       veil-type veil-color ring-number ring-type spore-print-color  \\\n",
      "count       8124       8124        8124      8124              8124   \n",
      "unique         1          4           3         5                 9   \n",
      "top            p          w           o         p                 w   \n",
      "freq        8124       7924        7488      3968              2388   \n",
      "\n",
      "       population habitat  \n",
      "count        8124    8124  \n",
      "unique          6       7  \n",
      "top             v       d  \n",
      "freq         4040    3148  \n",
      "\n",
      "[4 rows x 22 columns]\n",
      "       poisonous\n",
      "count       8124\n",
      "unique         2\n",
      "top            e\n",
      "freq        4208\n"
     ]
    }
   ],
   "source": [
    "# fetch dataset \n",
    "mushroom = fetch_ucirepo(id=73) \n",
    "  \n",
    "# data (as pandas dataframes) \n",
    "X = mushroom.data.features \n",
    "y = mushroom.data.targets \n",
    "\n",
    "print(X.describe())"
   ],
   "metadata": {
    "collapsed": false,
    "ExecuteTime": {
     "end_time": "2024-11-24T19:04:59.540158600Z",
     "start_time": "2024-11-24T19:04:57.034521Z"
    }
   },
   "id": "8db2447094d09700"
  },
  {
   "cell_type": "markdown",
   "source": [
    "## Проверка пропущенных значений\n",
    "Замечаем, что null значения есть только в столбце 'stalk-root'. Заменим их на \"Unknown\""
   ],
   "metadata": {
    "collapsed": false
   },
   "id": "da81dc9631ebdb78"
  },
  {
   "cell_type": "code",
   "execution_count": 3,
   "outputs": [
    {
     "name": "stdout",
     "output_type": "stream",
     "text": [
      "Missing values per column:\n",
      "cap-shape                      0\n",
      "cap-surface                    0\n",
      "cap-color                      0\n",
      "bruises                        0\n",
      "odor                           0\n",
      "gill-attachment                0\n",
      "gill-spacing                   0\n",
      "gill-size                      0\n",
      "gill-color                     0\n",
      "stalk-shape                    0\n",
      "stalk-root                  2480\n",
      "stalk-surface-above-ring       0\n",
      "stalk-surface-below-ring       0\n",
      "stalk-color-above-ring         0\n",
      "stalk-color-below-ring         0\n",
      "veil-type                      0\n",
      "veil-color                     0\n",
      "ring-number                    0\n",
      "ring-type                      0\n",
      "spore-print-color              0\n",
      "population                     0\n",
      "habitat                        0\n",
      "dtype: int64\n"
     ]
    }
   ],
   "source": [
    "missing_values = X.isnull().sum()\n",
    "print(\"Missing values per column:\", missing_values, sep=\"\\n\")\n",
    "X.loc[:, 'stalk-root'] = X['stalk-root'].fillna(\"Unknown\")"
   ],
   "metadata": {
    "collapsed": false,
    "ExecuteTime": {
     "end_time": "2024-11-24T18:24:25.385175900Z",
     "start_time": "2024-11-24T18:24:25.325557800Z"
    }
   },
   "id": "5786a8c19bc26310"
  },
  {
   "cell_type": "markdown",
   "source": [
    "## Дерево решений"
   ],
   "metadata": {
    "collapsed": false
   },
   "id": "d025aec2692d5e59"
  },
  {
   "cell_type": "code",
   "execution_count": 4,
   "outputs": [],
   "source": [
    "class DecisionTree:\n",
    "    def __init__(self, X, y):\n",
    "        self.tree = None\n",
    "        self.X = X\n",
    "        self.y = y\n",
    "        self.fit()\n",
    "    \n",
    "    # построение дерева\n",
    "    def fit(self):\n",
    "        data = pd.concat([self.X, self.y], axis=1)\n",
    "        target_name = self.y.columns[0]  \n",
    "        self.tree = self.build_tree(data, target_name)\n",
    "        \n",
    "    # прогнозирование для набора данных\n",
    "    def predict(self, X):\n",
    "        predictions = []\n",
    "        for _, row in X.iterrows():\n",
    "            predictions.append(self.classify(row, self.tree))\n",
    "        return np.array(predictions)\n",
    "    \n",
    "    # расчёт энтропии\n",
    "    def entropy(self, target_col):\n",
    "        values, counts = np.unique(target_col, return_counts=True)\n",
    "        probabilities = counts / len(target_col)\n",
    "        entropy = -sum(probabilities * np.log2(probabilities))\n",
    "        return entropy\n",
    "    \n",
    "    \n",
    "    # расчёт прироста информации\n",
    "    def information_gain(self, data, feature, target_name='target'):\n",
    "        total_entropy = self.entropy(data[target_name])\n",
    "        values, counts = np.unique(data[feature], return_counts=True)\n",
    "        weighted_entropy = sum((counts[i] / len(data)) * self.entropy(data[data[feature] == values[i]][target_name]) for i in range(len(values)))\n",
    "        info_gain = total_entropy - weighted_entropy\n",
    "        return info_gain\n",
    "    \n",
    "    \n",
    "    # расчёт информации о разделении\n",
    "    def split_info(self, data, feature):\n",
    "        values, counts = np.unique(data[feature], return_counts=True)\n",
    "        probabilities = counts / len(data)\n",
    "        split_info = -sum(probabilities * np.log2(probabilities))\n",
    "        return split_info\n",
    "    \n",
    "    \n",
    "    # расчёт отношения прироста информации \n",
    "    def gain_ratio(self, data, feature, target_name='target'):\n",
    "        info_gain = self.information_gain(data, feature, target_name)\n",
    "        split_info = self.split_info(data, feature)\n",
    "        return info_gain / split_info if split_info != 0 else 0\n",
    "    \n",
    "    \n",
    "    # рекурсивное построение дерева решений\n",
    "    def build_tree(self, data, target_name='target', features=None):\n",
    "        \n",
    "        if features is None:\n",
    "            features = data.columns.drop(target_name)        \n",
    "            \n",
    "        # Базовые случаи\n",
    "        if len(np.unique(data[target_name])) == 1:  # Один класс\n",
    "            return np.unique(data[target_name])[0]\n",
    "        if len(features) == 0:  # Нет признаков для разделения\n",
    "            return data[target_name].mode()[0]\n",
    "        \n",
    "        # Выбор лучшего признака\n",
    "        gain_ratios = {feature: self.gain_ratio(data, feature, target_name) for feature in features}\n",
    "        best_feature = max(gain_ratios, key=gain_ratios.get)\n",
    "    \n",
    "        # Создание узла дерева\n",
    "        tree = {best_feature: {}}\n",
    "        for value in np.unique(data[best_feature]):\n",
    "            subset = data[data[best_feature] == value]\n",
    "            subtree = self.build_tree(subset, target_name, features.drop(best_feature))\n",
    "            tree[best_feature][value] = subtree\n",
    "\n",
    "        return tree\n",
    "    \n",
    "    # рекурсивная классификация на основе дерева решений\n",
    "    def classify(self, row, tree):\n",
    "        if not isinstance(tree, dict):\n",
    "            return tree\n",
    "        feature = list(tree.keys())[0]\n",
    "        subtree = tree[feature].get(row[feature], None)\n",
    "        if subtree is None:  # Нет значения в обучающей выборке\n",
    "            return None\n",
    "        return self.classify(row, subtree)\n"
   ],
   "metadata": {
    "collapsed": false,
    "ExecuteTime": {
     "end_time": "2024-11-24T18:24:25.393691100Z",
     "start_time": "2024-11-24T18:24:25.347017500Z"
    }
   },
   "id": "357a231e3490f19f"
  },
  {
   "cell_type": "markdown",
   "source": [
    "## Разделение данных\n",
    "Поделим данные в соотношении 80% для обучения, 20% для тестов.\n",
    "Предварительно перемешаем их, а потом выберем sqrt(n) случайных признаков для построения дерева."
   ],
   "metadata": {
    "collapsed": false
   },
   "id": "38d48cc2db8dd6d8"
  },
  {
   "cell_type": "code",
   "execution_count": 5,
   "outputs": [],
   "source": [
    "def split_data(X, y, test_size=0.2):\n",
    "    data = pd.concat([X, y], axis=1)\n",
    "    shuffled_data = data.sample(frac=1).reset_index(drop=True)\n",
    "    train_size = int(data.shape[0] * (1 - test_size))\n",
    "    shuffled_X, shuffled_y = shuffled_data[shuffled_data.columns.drop(y.columns)], shuffled_data[y.columns]\n",
    "    X_train, X_test = shuffled_X[:train_size], shuffled_X[train_size:]\n",
    "    y_train, y_test = shuffled_y[:train_size], shuffled_y[train_size:]\n",
    "    \n",
    "    return X_train, X_test, y_train, y_test\n",
    "    \n",
    "\n",
    "X_train, X_test, y_train, y_test = split_data(X, y)\n",
    "\n",
    "def get_random_columns(X_train, X_test, random_state=2):\n",
    "    n = X_train.shape[1]\n",
    "    random.seed =random_state\n",
    "    random_columns = random.choices(X_train.columns, k=round(math.sqrt(n)))\n",
    "    X_train_random, X_test_random = X_train[random_columns], X_test[random_columns]\n",
    "    \n",
    "    return X_train_random, X_test_random\n",
    "\n",
    "X_train_random, X_test_random = get_random_columns(X_train, X_test)\n"
   ],
   "metadata": {
    "collapsed": false,
    "ExecuteTime": {
     "end_time": "2024-11-24T18:24:25.394689300Z",
     "start_time": "2024-11-24T18:24:25.358535400Z"
    }
   },
   "id": "fe88da22e7d4b282"
  },
  {
   "cell_type": "markdown",
   "source": [
    "## Функции оценки метрик"
   ],
   "metadata": {
    "collapsed": false
   },
   "id": "598862ba0ed94e02"
  },
  {
   "cell_type": "code",
   "execution_count": 43,
   "outputs": [],
   "source": [
    "def calculate_metrics(y_true, y_pred):\n",
    "    TP = np.sum((y_true == 1) & (y_pred == 1))\n",
    "    FP = np.sum((y_true == 0) & (y_pred == 1))\n",
    "    TN = np.sum((y_true == 0) & (y_pred == 0))\n",
    "    FN = np.sum((y_true == 1) & (y_pred == 0))\n",
    "    \n",
    "    # Вычисляем метрики\n",
    "    accuracy = (TP + TN) / (TP + TN + FP + FN)\n",
    "    precision = TP / (TP + FP) if (TP + FP) > 0 else 0\n",
    "    recall = TP / (TP + FN) if (TP + FN) > 0 else 0\n",
    "    fpr = FP / (FP + TN) if (FP + TN) > 0 else 0\n",
    "    \n",
    "    return accuracy, precision, recall, fpr\n",
    "\n"
   ],
   "metadata": {
    "collapsed": false,
    "ExecuteTime": {
     "end_time": "2024-11-24T19:47:23.427030100Z",
     "start_time": "2024-11-24T19:47:23.410493Z"
    }
   },
   "id": "56b3fee4f6ec33b5"
  },
  {
   "cell_type": "markdown",
   "source": [
    "## Проверка работы"
   ],
   "metadata": {
    "collapsed": false
   },
   "id": "70595e4ee353d633"
  },
  {
   "cell_type": "code",
   "execution_count": 45,
   "outputs": [
    {
     "name": "stdout",
     "output_type": "stream",
     "text": [
      "{'bruises': {'f': {'veil-color': {'n': 'e',\n",
      "                                  'o': 'e',\n",
      "                                  'w': {'habitat': {'d': {'cap-surface': {'f': 'p',\n",
      "                                                                          's': {'stalk-color-above-ring': {'n': 'e',\n",
      "                                                                                                           'p': 'p',\n",
      "                                                                                                           'w': 'p'}},\n",
      "                                                                          'y': {'stalk-color-above-ring': {'b': 'p',\n",
      "                                                                                                           'c': 'p',\n",
      "                                                                                                           'n': 'p',\n",
      "                                                                                                           'p': 'p',\n",
      "                                                                                                           'w': 'p'}}}},\n",
      "                                                    'g': {'stalk-color-above-ring': {'b': 'p',\n",
      "                                                                                     'n': 'p',\n",
      "                                                                                     'p': 'p',\n",
      "                                                                                     'w': 'e'}},\n",
      "                                                    'l': {'cap-surface': {'f': 'e',\n",
      "                                                                          's': 'p',\n",
      "                                                                          'y': {'stalk-color-above-ring': {'p': 'p',\n",
      "                                                                                                           'w': 'p'}}}},\n",
      "                                                    'p': {'stalk-color-above-ring': {'b': 'p',\n",
      "                                                                                     'n': {'cap-surface': {'f': 'p',\n",
      "                                                                                                           's': 'e',\n",
      "                                                                                                           'y': 'p'}},\n",
      "                                                                                     'p': 'p',\n",
      "                                                                                     'w': 'p'}},\n",
      "                                                    'u': 'e'}},\n",
      "                                  'y': 'p'}},\n",
      "             't': {'habitat': {'d': 'e',\n",
      "                               'g': {'cap-surface': {'s': {'stalk-color-above-ring': {'w': {'veil-color': {'w': 'p'}}}},\n",
      "                                                     'y': {'stalk-color-above-ring': {'w': {'veil-color': {'w': 'e'}}}}}},\n",
      "                               'l': 'p',\n",
      "                               'm': {'cap-surface': {'s': {'stalk-color-above-ring': {'w': {'veil-color': {'w': 'e'}}}},\n",
      "                                                     'y': {'stalk-color-above-ring': {'w': {'veil-color': {'w': 'e'}}}}}},\n",
      "                               'p': 'e',\n",
      "                               'u': 'p',\n",
      "                               'w': 'e'}}}}\n",
      "Accuracy: 0.962\n",
      "Precision: 0.975\n",
      "Recall: 0.953\n",
      "False Positive Rate (FPR): 0.028\n"
     ]
    },
    {
     "data": {
      "text/plain": "<Figure size 1200x600 with 2 Axes>",
      "image/png": "[encoded data removed]"
     },
     "metadata": {},
     "output_type": "display_data"
    },
    {
     "name": "stdout",
     "output_type": "stream",
     "text": [
      "ROC AUC: 0.963\n",
      "PR AUC: 0.977\n"
     ]
    }
   ],
   "source": [
    "from sklearn.metrics import roc_curve, auc, precision_recall_curve, average_precision_score\n",
    "\n",
    "\n",
    "tree = DecisionTree(X_train_random, y_train)\n",
    "pprint.pprint(tree.tree)\n",
    "\n",
    "predictions = tree.predict(X_test_random)\n",
    "\n",
    "y_true_bin = np.where(y_test['poisonous'] == 'e', 1, 0)\n",
    "y_pred_bin = np.where(predictions == 'e', 1, 0)\n",
    "\n",
    "accuracy, precision, recall, fpr = calculate_metrics(y_true_bin, y_pred_bin)\n",
    "\n",
    "# Вывод результатов\n",
    "print(f\"Accuracy: {accuracy:.3f}\")\n",
    "print(f\"Precision: {precision:.3f}\")\n",
    "print(f\"Recall: {recall:.3f}\")\n",
    "print(f\"False Positive Rate (FPR): {fpr:.3f}\")\n",
    "\n",
    "\n",
    "precision, recall, _ = precision_recall_curve(y_true_bin, y_pred_bin)\n",
    "pr_auc = auc(recall, precision)\n",
    "\n",
    "fpr, tpr, _ = roc_curve(y_true_bin, y_pred_bin)\n",
    "roc_auc = auc(fpr, tpr)\n",
    "\n",
    "# Вычисляем Precision и Recall для PR\n",
    "precision, recall, _ = precision_recall_curve(y_true_bin, y_pred_bin)\n",
    "pr_auc = auc(recall, precision)\n",
    "\n",
    "# Параметры графиков\n",
    "plt.figure(figsize=(12, 6))\n",
    "\n",
    "\n",
    "# График AUC-ROC\n",
    "plt.subplot(1, 2, 1)\n",
    "plt.plot(fpr, tpr, color='blue', label=f'AUC-ROC = {roc_auc:.2f}')\n",
    "plt.plot([0, 1], [0, 1], color='red', linestyle='--')  # линия случайного классификатора\n",
    "plt.title('ROC Curve')\n",
    "plt.xlabel('False Positive Rate')\n",
    "plt.ylabel('True Positive Rate')\n",
    "plt.legend(loc='lower right')\n",
    "plt.grid()\n",
    "\n",
    "# График AUC-PR\n",
    "plt.subplot(1, 2, 2)\n",
    "plt.plot(recall, precision, color='blue', label=f'AUC-PR = {pr_auc:.2f}')\n",
    "plt.title('Precision-Recall Curve')\n",
    "plt.xlabel('Recall')\n",
    "plt.ylabel('Precision')\n",
    "plt.legend(loc='lower left')\n",
    "plt.grid()\n",
    "\n",
    "# Показать графики\n",
    "plt.tight_layout()\n",
    "plt.show()\n",
    "\n",
    "print(f\"ROC AUC: {roc_auc:.3f}\")\n",
    "print(f\"PR AUC: {pr_auc:.3f}\")\n"
   ],
   "metadata": {
    "collapsed": false,
    "ExecuteTime": {
     "end_time": "2024-11-24T19:49:31.192031200Z",
     "start_time": "2024-11-24T19:49:30.266543200Z"
    }
   },
   "id": "241ca5d48728e011"
  },
  {
   "cell_type": "markdown",
   "source": [],
   "metadata": {
    "collapsed": false
   },
   "id": "d787756552795f5c"
  }
 ],
 "metadata": {
  "kernelspec": {
   "display_name": "Python 3",
   "language": "python",
   "name": "python3"
  },
  "language_info": {
   "codemirror_mode": {
    "name": "ipython",
    "version": 2
   },
   "file_extension": ".py",
   "mimetype": "text/x-python",
   "name": "python",
   "nbconvert_exporter": "python",
   "pygments_lexer": "ipython2",
   "version": "2.7.6"
  }
 },
 "nbformat": 4,
 "nbformat_minor": 5
}
